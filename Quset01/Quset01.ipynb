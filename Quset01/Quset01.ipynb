{
  "nbformat": 4,
  "nbformat_minor": 0,
  "metadata": {
    "colab": {
      "provenance": [],
      "include_colab_link": true
    },
    "kernelspec": {
      "name": "python3",
      "display_name": "Python 3"
    },
    "language_info": {
      "name": "python"
    }
  },
  "cells": [
    {
      "cell_type": "markdown",
      "metadata": {
        "id": "view-in-github",
        "colab_type": "text"
      },
      "source": [
        "<a href=\"https://colab.research.google.com/github/Isaiah0722/AIFFEL/blob/main/Quset01/Quset01.ipynb\" target=\"_parent\"><img src=\"https://colab.research.google.com/assets/colab-badge.svg\" alt=\"Open In Colab\"/></a>"
      ]
    },
    {
      "cell_type": "code",
      "source": [
        "word = input()\n",
        "rWord = ''\n",
        "\n",
        "for i in word :\n",
        "  rWord = i + rWord\n",
        "print(rWord)\n",
        "\n",
        "if word == rWord:\n",
        "  print('입력된 단어는 회문입니다.')\n",
        "else:\n",
        "  print('입력된 단어는 회문이 아닙니다.')\n",
        "\n",
        "\n",
        "\n",
        "\n",
        "\n"
      ],
      "metadata": {
        "id": "qm8U9Y0Cb4pR"
      },
      "execution_count": null,
      "outputs": []
    }
  ]
}